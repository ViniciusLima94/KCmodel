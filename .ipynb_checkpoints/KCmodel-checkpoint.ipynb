{
 "cells": [
  {
   "cell_type": "markdown",
   "id": "e5456c4a-66cb-48d7-91dd-c7bf7f2afd85",
   "metadata": {},
   "source": [
    "### Kinouchi \\& Copelli Model"
   ]
  },
  {
   "cell_type": "code",
   "execution_count": 1,
   "id": "eac9b830-0da4-47c0-859a-4d74bc72d8db",
   "metadata": {},
   "outputs": [],
   "source": [
    "from functools import partial\n",
    "\n",
    "import jax\n",
    "import jax.numpy as jnp\n",
    "import matplotlib.pyplot as plt\n",
    "import numpy as np\n",
    "import scipy"
   ]
  },
  {
   "cell_type": "code",
   "execution_count": 2,
   "id": "fa275365-3e1a-42b2-b9c5-c82ce1e84c7d",
   "metadata": {},
   "outputs": [],
   "source": [
    "@partial(jax.vmap, in_axes=(None, None, None, None, 0, None))\n",
    "def KC_model(\n",
    "    A: jnp.ndarray, n_states: int, p: int, T: int, sigma: jnp.ndarray, seed: int\n",
    "):\n",
    "    # Set key for random\n",
    "    key = jax.random.key(seed)\n",
    "\n",
    "    # Number of nodes\n",
    "    N = len(A)\n",
    "    # Average degree\n",
    "    K = A.sum(1).mean()\n",
    "    # Maximal probability\n",
    "    pmax = 2 * sigma / K\n",
    "    # Assign weights\n",
    "    W = A * jax.random.uniform(key, shape=(N, N))\n",
    "    W = pmax * (W + W.T) / 2\n",
    "    # Times\n",
    "    times = jnp.arange(T, dtype=jnp.int16)\n",
    "\n",
    "    def _evolve(carry, t):\n",
    "        # Get current states\n",
    "        states = carry\n",
    "\n",
    "        ####################################################################\n",
    "        # Quiet cells may be activated and update cells\n",
    "        ####################################################################\n",
    "        Q = states == 0\n",
    "        R = states >= 1\n",
    "        # Check if any quiescent goes active\n",
    "        dice_A = jax.random.uniform(jax.random.key(seed + t), shape=(N,)) < p\n",
    "\n",
    "        ####################################################################\n",
    "        # Excited cells may update neighbors\n",
    "        ####################################################################\n",
    "        E = states == 1\n",
    "\n",
    "        dice_B = (\n",
    "            jax.random.uniform(jax.random.key(seed + t + 1), shape=(N, N)) < E * W\n",
    "        ).any(axis=1)\n",
    "\n",
    "        new_states = (\n",
    "            jnp.logical_and(Q, dice_A)\n",
    "            + jnp.logical_and(Q, dice_B)\n",
    "            + ((states + 1) % n_states) * R\n",
    "        ).astype(jnp.int32)\n",
    "\n",
    "        return new_states, states\n",
    "\n",
    "    initial_carry = jax.random.randint(key, (N,), 0, n_states)\n",
    "    _, states = jax.lax.scan(_evolve, initial_carry, times)\n",
    "\n",
    "    return states.T"
   ]
  },
  {
   "cell_type": "code",
   "execution_count": 3,
   "id": "574ab3f3-aea9-459a-8ce1-621c028d296e",
   "metadata": {},
   "outputs": [
    {
     "name": "stderr",
     "output_type": "stream",
     "text": [
      "/home/vinicius/anaconda3/envs/ipp/lib/python3.9/site-packages/jax/_src/ops/scatter.py:96: FutureWarning: scatter inputs have incompatible types: cannot safely cast value from dtype=int32 to dtype=bool with jax_numpy_dtype_promotion='standard'. In future JAX releases this will result in an error.\n",
      "  warnings.warn(\n"
     ]
    }
   ],
   "source": [
    "A = jax.random.uniform(jax.random.key(455454), shape=(5000, 5000))\n",
    "A = (A + A.T) / 2\n",
    "A = A >= 0.967\n",
    "A = jnp.fill_diagonal(A, 0, inplace=False)"
   ]
  },
  {
   "cell_type": "code",
   "execution_count": 4,
   "id": "b442d8cb-5b8f-446e-bd32-f619341dc4a1",
   "metadata": {},
   "outputs": [
    {
     "data": {
      "text/plain": [
       "Array(10.7987995, dtype=float32)"
      ]
     },
     "execution_count": 4,
     "metadata": {},
     "output_type": "execute_result"
    }
   ],
   "source": [
    "A.sum(0).mean()"
   ]
  },
  {
   "cell_type": "code",
   "execution_count": 5,
   "id": "b15dec24-355a-4745-abe7-fabf500848a0",
   "metadata": {},
   "outputs": [],
   "source": [
    "sigmas = jnp.linspace(0.01, 5, 50)"
   ]
  },
  {
   "cell_type": "code",
   "execution_count": 6,
   "id": "aff35575-aab8-4b58-8c22-c51898a7d353",
   "metadata": {},
   "outputs": [],
   "source": [
    "out = KC_model(A, 5, 0, 1000, sigmas, 10)"
   ]
  },
  {
   "cell_type": "code",
   "execution_count": 7,
   "id": "5b8c65a2-2fd4-4bde-8a2e-0ec0e7331586",
   "metadata": {},
   "outputs": [
    {
     "data": {
      "text/plain": [
       "[<matplotlib.lines.Line2D at 0x7fdef3bb8fa0>]"
      ]
     },
     "execution_count": 7,
     "metadata": {},
     "output_type": "execute_result"
    },
    {
     "data": {
      "image/png": "[encoded data removed]",
      "text/plain": [
       "<Figure size 640x480 with 1 Axes>"
      ]
     },
     "metadata": {},
     "output_type": "display_data"
    }
   ],
   "source": [
    "plt.plot(sigmas, (out == 1).mean((1, 2)), \"o\")"
   ]
  },
  {
   "cell_type": "code",
   "execution_count": 8,
   "id": "7024e1f8-cfa6-45ab-ab9b-b647cbe9f4d7",
   "metadata": {},
   "outputs": [
    {
     "data": {
      "text/plain": [
       "(50, 5000, 1000)"
      ]
     },
     "execution_count": 8,
     "metadata": {},
     "output_type": "execute_result"
    }
   ],
   "source": [
    "out.shape"
   ]
  },
  {
   "cell_type": "code",
   "execution_count": 9,
   "id": "8d2fc7b6-b9ff-4430-8f94-994ae7c507e5",
   "metadata": {},
   "outputs": [],
   "source": [
    "import ripser"
   ]
  },
  {
   "cell_type": "code",
   "execution_count": 10,
   "id": "24374fc6-3756-42be-aad8-84a0e1f74c7d",
   "metadata": {},
   "outputs": [],
   "source": [
    "ph = ripser.ripser(out[0], maxdim=1)"
   ]
  },
  {
   "cell_type": "code",
   "execution_count": 18,
   "id": "748e4fb5-c122-422c-ae69-1ef565999a83",
   "metadata": {},
   "outputs": [
    {
     "data": {
      "text/plain": [
       "array([[0.        , 4.        ],\n",
       "       [0.        , 4.12310553],\n",
       "       [0.        , 4.2426405 ],\n",
       "       [0.        , 4.35889912],\n",
       "       [0.        ,        inf]])"
      ]
     },
     "execution_count": 18,
     "metadata": {},
     "output_type": "execute_result"
    }
   ],
   "source": [
    "ph['dgms'][0]"
   ]
  },
  {
   "cell_type": "code",
   "execution_count": 15,
   "id": "387e0beb-e797-4b7f-a393-4f834a130b1a",
   "metadata": {},
   "outputs": [
    {
     "data": {
      "text/plain": [
       "[[], []]"
      ]
     },
     "execution_count": 15,
     "metadata": {},
     "output_type": "execute_result"
    }
   ],
   "source": [
    "ph['cocycles']"
   ]
  }
 ],
 "metadata": {
  "kernelspec": {
   "display_name": "Python 3 (ipykernel)",
   "language": "python",
   "name": "python3"
  },
  "language_info": {
   "codemirror_mode": {
    "name": "ipython",
    "version": 3
   },
   "file_extension": ".py",
   "mimetype": "text/x-python",
   "name": "python",
   "nbconvert_exporter": "python",
   "pygments_lexer": "ipython3",
   "version": "3.9.16"
  }
 },
 "nbformat": 4,
 "nbformat_minor": 5
}
